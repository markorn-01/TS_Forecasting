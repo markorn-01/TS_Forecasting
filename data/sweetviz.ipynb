{
 "cells": [
  {
   "cell_type": "code",
   "execution_count": 2,
   "metadata": {},
   "outputs": [
    {
     "name": "stdout",
     "output_type": "stream",
     "text": [
      "Requirement already satisfied: sweetviz in /Library/Frameworks/Python.framework/Versions/3.9/lib/python3.9/site-packages (2.1.4)\n",
      "Requirement already satisfied: pandas!=1.0.0,!=1.0.1,!=1.0.2,>=0.25.3 in /Library/Frameworks/Python.framework/Versions/3.9/lib/python3.9/site-packages (from sweetviz) (1.4.3)\n",
      "Requirement already satisfied: numpy>=1.16.0 in /Library/Frameworks/Python.framework/Versions/3.9/lib/python3.9/site-packages (from sweetviz) (1.23.0)\n",
      "Requirement already satisfied: matplotlib>=3.1.3 in /Library/Frameworks/Python.framework/Versions/3.9/lib/python3.9/site-packages (from sweetviz) (3.5.2)\n",
      "Requirement already satisfied: tqdm>=4.43.0 in /Library/Frameworks/Python.framework/Versions/3.9/lib/python3.9/site-packages (from sweetviz) (4.64.0)\n",
      "Requirement already satisfied: scipy>=1.3.2 in /Library/Frameworks/Python.framework/Versions/3.9/lib/python3.9/site-packages (from sweetviz) (1.8.1)\n",
      "Requirement already satisfied: jinja2>=2.11.1 in /Users/minhn/Library/Python/3.9/lib/python/site-packages (from sweetviz) (3.1.2)\n",
      "Requirement already satisfied: importlib-resources>=1.2.0 in /Library/Frameworks/Python.framework/Versions/3.9/lib/python3.9/site-packages (from sweetviz) (6.0.1)\n",
      "Requirement already satisfied: zipp>=3.1.0 in /Users/minhn/Library/Python/3.9/lib/python/site-packages (from importlib-resources>=1.2.0->sweetviz) (3.10.0)\n",
      "Requirement already satisfied: MarkupSafe>=2.0 in /Users/minhn/Library/Python/3.9/lib/python/site-packages (from jinja2>=2.11.1->sweetviz) (2.1.1)\n",
      "Requirement already satisfied: cycler>=0.10 in /Library/Frameworks/Python.framework/Versions/3.9/lib/python3.9/site-packages (from matplotlib>=3.1.3->sweetviz) (0.11.0)\n",
      "Requirement already satisfied: fonttools>=4.22.0 in /Library/Frameworks/Python.framework/Versions/3.9/lib/python3.9/site-packages (from matplotlib>=3.1.3->sweetviz) (4.34.2)\n",
      "Requirement already satisfied: kiwisolver>=1.0.1 in /Library/Frameworks/Python.framework/Versions/3.9/lib/python3.9/site-packages (from matplotlib>=3.1.3->sweetviz) (1.4.3)\n",
      "Requirement already satisfied: packaging>=20.0 in /Users/minhn/Library/Python/3.9/lib/python/site-packages (from matplotlib>=3.1.3->sweetviz) (21.3)\n",
      "Requirement already satisfied: pillow>=6.2.0 in /Library/Frameworks/Python.framework/Versions/3.9/lib/python3.9/site-packages (from matplotlib>=3.1.3->sweetviz) (9.2.0)\n",
      "Requirement already satisfied: pyparsing>=2.2.1 in /Users/minhn/Library/Python/3.9/lib/python/site-packages (from matplotlib>=3.1.3->sweetviz) (3.0.9)\n",
      "Requirement already satisfied: python-dateutil>=2.7 in /Users/minhn/Library/Python/3.9/lib/python/site-packages (from matplotlib>=3.1.3->sweetviz) (2.8.2)\n",
      "Requirement already satisfied: pytz>=2020.1 in /Library/Frameworks/Python.framework/Versions/3.9/lib/python3.9/site-packages (from pandas!=1.0.0,!=1.0.1,!=1.0.2,>=0.25.3->sweetviz) (2022.1)\n",
      "Requirement already satisfied: six>=1.5 in /Library/Frameworks/Python.framework/Versions/3.9/lib/python3.9/site-packages (from python-dateutil>=2.7->matplotlib>=3.1.3->sweetviz) (1.16.0)\n"
     ]
    }
   ],
   "source": [
    "! pip3 install sweetviz"
   ]
  },
  {
   "cell_type": "code",
   "execution_count": 4,
   "metadata": {},
   "outputs": [],
   "source": [
    "import pandas as pd\n",
    "# df = pd.read_csv('jena_climate/jena_climate_2009_2016.csv')\n",
    "df = pd.read_csv('gold/LBMA-Gold.csv')\n",
    "# df = df['T (degC)']"
   ]
  },
  {
   "cell_type": "code",
   "execution_count": 30,
   "metadata": {},
   "outputs": [
    {
     "data": {
      "application/json": {
       "ascii": false,
       "bar_format": "{desc:45}|{bar}| [{percentage:3.0f}%]   {elapsed} -> ({remaining} left)",
       "colour": null,
       "elapsed": 0.01758575439453125,
       "initial": 0,
       "n": 0,
       "ncols": null,
       "nrows": null,
       "postfix": null,
       "prefix": "",
       "rate": null,
       "total": 16,
       "unit": "it",
       "unit_divisor": 1000,
       "unit_scale": false
      },
      "application/vnd.jupyter.widget-view+json": {
       "model_id": "a1a79b89e39b445b814aeb862093f146",
       "version_major": 2,
       "version_minor": 0
      },
      "text/plain": [
       "                                             |          | [  0%]   00:00 -> (? left)"
      ]
     },
     "metadata": {},
     "output_type": "display_data"
    },
    {
     "name": "stdout",
     "output_type": "stream",
     "text": [
      "Report analysis_data_jena.html was generated! NOTEBOOK/COLAB USERS: the web browser MAY not pop up, regardless, the report IS saved in your notebook/colab files.\n"
     ]
    }
   ],
   "source": [
    "import sweetviz as sv\n",
    "ana = sv.analyze(df)\n",
    "ana.show_html('analysis_data_jena.html')"
   ]
  },
  {
   "cell_type": "code",
   "execution_count": 3,
   "metadata": {},
   "outputs": [],
   "source": [
    "%%capture\n",
    "!pip3 install pandas-profiling\n",
    "import pandas as pd\n",
    "from pandas_profiling import ProfileReport\n",
    "\n",
    "profile = ProfileReport(\n",
    "    df, title=\"weather\"\n",
    ")\n",
    "profile.to_file(\"report_gold.html\")"
   ]
  },
  {
   "cell_type": "code",
   "execution_count": 21,
   "metadata": {},
   "outputs": [],
   "source": [
    "import pandas as pd\n",
    "\n",
    "data = pd.read_csv('gold/LBMA-GOLD.csv')\n",
    "data = data[-10:]\n",
    "s = ''\n",
    "i = 0\n",
    "for idx, row in data.iterrows():\n",
    "    st = f\"{row['Date']} & {row['USD (AM)']} & {row['USD (PM)']} & {row['GBP (AM)']} & {row['GBP (PM)']} & {row['EURO (AM)']} & {row['EURO (PM)']} \\\\\"\n",
    "    s += st"
   ]
  },
  {
   "cell_type": "code",
   "execution_count": 22,
   "metadata": {},
   "outputs": [
    {
     "data": {
      "text/plain": [
       "'2023-08-18 & 1891.75 & 1893.7 & 1488.81 & 1485.99 & 1740.98 & 1741.83 \\\\2023-08-21 & 1890.1 & 1889.85 & 1484.86 & 1484.29 & 1734.92 & 1736.39 \\\\2023-08-22 & 1901.85 & 1892.75 & 1488.77 & 1487.32 & 1744.76 & 1745.3 \\\\2023-08-23 & 1904.55 & 1916.65 & 1505.17 & 1512.24 & 1761.14 & 1767.73 \\\\2023-08-24 & 1920.7 & 1917.05 & 1514.09 & 1516.58 & 1769.35 & 1768.29 \\\\2023-08-25 & 1917.85 & 1915.5 & 1522.96 & 1519.37 & 1777.27 & 1772.22 \\\\2023-08-29 & 1923.5 & 1930.0 & 1525.91 & 1528.37 & 1779.43 & 1779.27 \\\\2023-08-30 & 1938.35 & 1947.55 & 1530.33 & 1528.63 & 1780.57 & 1779.87 \\\\2023-08-31 & 1944.2 & 1942.3 & 1533.58 & 1532.47 & 1788.28 & 1789.83 \\\\2023-09-01 & 1944.3 & 1940.55 & 1532.89 & 1532.84 & 1791.28 & 1790.74 \\\\'"
      ]
     },
     "execution_count": 22,
     "metadata": {},
     "output_type": "execute_result"
    }
   ],
   "source": [
    "s"
   ]
  }
 ],
 "metadata": {
  "kernelspec": {
   "display_name": "Python 3",
   "language": "python",
   "name": "python3"
  },
  "language_info": {
   "codemirror_mode": {
    "name": "ipython",
    "version": 3
   },
   "file_extension": ".py",
   "mimetype": "text/x-python",
   "name": "python",
   "nbconvert_exporter": "python",
   "pygments_lexer": "ipython3",
   "version": "3.9.12"
  },
  "orig_nbformat": 4
 },
 "nbformat": 4,
 "nbformat_minor": 2
}
